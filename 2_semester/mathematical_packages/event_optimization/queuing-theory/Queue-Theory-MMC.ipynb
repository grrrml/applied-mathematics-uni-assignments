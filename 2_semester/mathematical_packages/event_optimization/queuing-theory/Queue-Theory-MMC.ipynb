{
 "cells": [
  {
   "cell_type": "code",
   "execution_count": 15,
   "id": "2829488a-4f13-48d0-b4b2-92fe39312127",
   "metadata": {},
   "outputs": [],
   "source": [
    "using Distributions\n",
    "using DataFrames\n",
    "using CSV\n",
    "using Random"
   ]
  },
  {
   "cell_type": "code",
   "execution_count": 16,
   "id": "0db1e0c8-df42-4b2d-b31c-f4802f464e02",
   "metadata": {},
   "outputs": [
    {
     "data": {
      "text/plain": [
       "MersenneTwister(2137)"
      ]
     },
     "execution_count": 16,
     "metadata": {},
     "output_type": "execute_result"
    }
   ],
   "source": [
    "# Seed\n",
    "rng = MersenneTwister(2137)"
   ]
  },
  {
   "cell_type": "code",
   "execution_count": 17,
   "id": "f8d6fe47-efcd-4f49-b32c-a4ecb1a3b300",
   "metadata": {},
   "outputs": [
    {
     "data": {
      "text/plain": [
       "calculate_parameters (generic function with 1 method)"
      ]
     },
     "execution_count": 17,
     "metadata": {},
     "output_type": "execute_result"
    }
   ],
   "source": [
    "function calculate_parameters(number_of_persons::Int64, mean_arrival_rate::Float64, mean_service_rate::Float64)\n",
    "    return calculated_parameters = Dict(\n",
    "        'n' => number_of_persons,\n",
    "        \"mean_arrival_rate\" => mean_arrival_rate,\n",
    "        \"mean_service_rate\" => mean_service_rate,\n",
    "        \"mean_interarrival_time\" => 1.0 / mean_arrival_rate,\n",
    "        \"mean_service_time\" => 1.0 / mean_service_rate\n",
    "    )\n",
    "end"
   ]
  },
  {
   "cell_type": "code",
   "execution_count": 18,
   "id": "63436488-94d2-4a37-9b37-ace418b95fe3",
   "metadata": {},
   "outputs": [
    {
     "data": {
      "text/plain": [
       "previous_index (generic function with 1 method)"
      ]
     },
     "execution_count": 18,
     "metadata": {},
     "output_type": "execute_result"
    }
   ],
   "source": [
    "function previous_index(time_df, queue)\n",
    "    column = time_df[:, Symbol(queue)]\n",
    "    previous_index = findlast(x -> x == 1.0, column)\n",
    "    return previous_index\n",
    "end"
   ]
  },
  {
   "cell_type": "code",
   "execution_count": 19,
   "id": "b007258f-8aef-4f5b-b6fb-4adf646cc18e",
   "metadata": {},
   "outputs": [
    {
     "data": {
      "text/plain": [
       "time_dataframe (generic function with 1 method)"
      ]
     },
     "execution_count": 19,
     "metadata": {},
     "output_type": "execute_result"
    }
   ],
   "source": [
    "function time_dataframe(calculated_parameters::Dict, interarrival_times, arrival_times, service_times)\n",
    "    # Unpacking parameters\n",
    "    n = calculated_parameters['n']\n",
    "    \n",
    "    # Creating DataFrame\n",
    "    time_df_head =  DataFrame(\n",
    "        interarrival_time = 0.0,\n",
    "        service_time = 0.0,\n",
    "        arrival_time = 0.0,\n",
    "        service_start_time = 0.0,\n",
    "        service_end_time = 0.0,\n",
    "        wait_time = 0.0,\n",
    "        queue_1 = 1.0,\n",
    "        queue_2 = 1.0,\n",
    "        queue_3 = 1.0\n",
    "        )\n",
    "    \n",
    "    time_df_data = DataFrame(\n",
    "        interarrival_time = interarrival_times,\n",
    "        service_time = service_times,\n",
    "        arrival_time = arrival_times,\n",
    "        service_start_time = zeros(n),\n",
    "        service_end_time = zeros(n),\n",
    "        wait_time = zeros(n),\n",
    "        queue_1 = zeros(n),\n",
    "        queue_2 = zeros(n),\n",
    "        queue_3 = zeros(n)\n",
    "        )\n",
    "    \n",
    "    time_df = vcat(DataFrame(time_df_head), DataFrame(time_df_data)) \n",
    "    \n",
    "    # Loop\n",
    "    for i in 2:n+1\n",
    "        # Simplifying variables\n",
    "        previous_in_queue_1 = previous_index(time_df, \"queue_1\")\n",
    "        previous_in_queue_2 = previous_index(time_df, \"queue_2\")\n",
    "        previous_in_queue_3 = previous_index(time_df, \"queue_3\")\n",
    "        \n",
    "        # Should go 1 -> 2 -> 3\n",
    "        if max(time_df[i, :arrival_time], time_df[previous_in_queue_1, :service_end_time]) == time_df[i, :arrival_time]\n",
    "            time_df[i, :service_start_time] = time_df[i, :arrival_time]\n",
    "            time_df[i, :service_end_time] = time_df[i, :service_start_time] + time_df[i, :service_time]\n",
    "            time_df[i, :queue_1] = 1.0\n",
    "        elseif max(time_df[i, :arrival_time], time_df[previous_in_queue_2, :service_end_time]) == time_df[i, :arrival_time]\n",
    "            time_df[i, :service_start_time] = time_df[i, :arrival_time]\n",
    "            time_df[i, :service_end_time] = time_df[i, :service_start_time] + time_df[i, :service_time]\n",
    "            time_df[i, :queue_2] = 1.0\n",
    "        elseif max(time_df[i, :arrival_time], time_df[previous_in_queue_3, :service_end_time]) == time_df[i, :arrival_time]\n",
    "                time_df[i, :service_start_time] = time_df[i, :arrival_time]\n",
    "                time_df[i, :service_end_time] = time_df[i, :service_start_time] + time_df[i, :service_time]\n",
    "                time_df[i, :queue_3] = 1.0\n",
    "        elseif min(\n",
    "                time_df[previous_in_queue_1, :service_end_time], \n",
    "                time_df[previous_in_queue_2, :service_end_time], \n",
    "                time_df[previous_in_queue_3, :service_end_time]\n",
    "                ) == time_df[previous_in_queue_1, :service_end_time]\n",
    "            time_df[i, :service_start_time] = time_df[previous_in_queue_1, :service_end_time]\n",
    "            time_df[i, :service_end_time] = time_df[i, :service_start_time] + time_df[i, :service_time]\n",
    "            time_df[i, :queue_1] = 1.0\n",
    "        elseif min( \n",
    "                time_df[previous_in_queue_2, :service_end_time], \n",
    "                time_df[previous_in_queue_3, :service_end_time]\n",
    "                ) == time_df[previous_in_queue_2, :service_end_time]\n",
    "            time_df[i, :service_start_time] = time_df[previous_in_queue_2, :service_end_time]\n",
    "            time_df[i, :service_end_time] = time_df[i, :service_start_time] + time_df[i, :service_time]\n",
    "            time_df[i, :queue_2] = 1.0\n",
    "        else \n",
    "            time_df[i, :service_start_time] = time_df[previous_in_queue_3, :service_end_time]\n",
    "            time_df[i, :service_end_time] = time_df[i, :service_start_time] + time_df[i, :service_time]\n",
    "            time_df[i, :queue_3] = 1.0 \n",
    "        end\n",
    "    end\n",
    "    \n",
    "    time_df[:, :wait_time] = time_df[:, :service_start_time] - time_df[:, :arrival_time]\n",
    "    \n",
    "    CSV.write(\"model_mmc_time_df.csv\", time_df)\n",
    "    return time_df\n",
    "end"
   ]
  },
  {
   "cell_type": "code",
   "execution_count": 20,
   "id": "92d43d7f-f762-44be-9d1b-92b96fa9c323",
   "metadata": {},
   "outputs": [
    {
     "data": {
      "text/plain": [
       "start_simulation (generic function with 1 method)"
      ]
     },
     "execution_count": 20,
     "metadata": {},
     "output_type": "execute_result"
    }
   ],
   "source": [
    "function start_simulation(number_of_persons::Int64, mean_arrival_rate::Float64, mean_service_rate::Float64)\n",
    "    # Calculating parameters\n",
    "    calculated_parameters = calculate_parameters(number_of_persons, mean_arrival_rate, mean_service_rate)\n",
    "    \n",
    "    # Unpacking parameters\n",
    "    n = calculated_parameters['n']\n",
    "    mean_interarrival_time = calculated_parameters[\"mean_interarrival_time\"]\n",
    "    mean_service_time = calculated_parameters[\"mean_service_time\"]\n",
    "    \n",
    "    # Calculating distributions\n",
    "    interarrival_times = rand(rng, Exponential(mean_interarrival_time), n)\n",
    "    arrival_times = cumsum(interarrival_times)\n",
    "    service_times = rand(rng, Exponential(mean_service_time), n)\n",
    "    \n",
    "    # Calculating DataFrame \n",
    "    time_df = time_dataframe(calculated_parameters, interarrival_times, arrival_times, service_times)\n",
    "    return time_df\n",
    "end"
   ]
  },
  {
   "cell_type": "code",
   "execution_count": 21,
   "id": "fc710075-47cd-4d15-b7be-380a55a4e54d",
   "metadata": {},
   "outputs": [
    {
     "data": {
      "text/html": [
       "<div class=\"data-frame\"><p>101 rows × 9 columns (omitted printing of 4 columns)</p><table class=\"data-frame\"><thead><tr><th></th><th>interarrival_time</th><th>service_time</th><th>arrival_time</th><th>service_start_time</th><th>service_end_time</th></tr><tr><th></th><th title=\"Float64\">Float64</th><th title=\"Float64\">Float64</th><th title=\"Float64\">Float64</th><th title=\"Float64\">Float64</th><th title=\"Float64\">Float64</th></tr></thead><tbody><tr><th>1</th><td>0.0</td><td>0.0</td><td>0.0</td><td>0.0</td><td>0.0</td></tr><tr><th>2</th><td>0.0047415</td><td>0.00242425</td><td>0.0047415</td><td>0.0047415</td><td>0.00716575</td></tr><tr><th>3</th><td>0.00189529</td><td>0.000738039</td><td>0.0066368</td><td>0.0066368</td><td>0.00737484</td></tr><tr><th>4</th><td>0.00172711</td><td>0.0122298</td><td>0.00836391</td><td>0.00836391</td><td>0.0205937</td></tr><tr><th>5</th><td>0.0104642</td><td>0.0231278</td><td>0.0188281</td><td>0.0188281</td><td>0.0419559</td></tr><tr><th>6</th><td>0.0204893</td><td>0.0200817</td><td>0.0393174</td><td>0.0393174</td><td>0.0593992</td></tr><tr><th>7</th><td>0.000197814</td><td>0.0113624</td><td>0.0395153</td><td>0.0395153</td><td>0.0508777</td></tr><tr><th>8</th><td>0.0103539</td><td>0.0196161</td><td>0.0498692</td><td>0.0498692</td><td>0.0694853</td></tr><tr><th>9</th><td>0.00488335</td><td>0.0385767</td><td>0.0547525</td><td>0.0547525</td><td>0.0933292</td></tr><tr><th>10</th><td>0.00937779</td><td>0.00743127</td><td>0.0641303</td><td>0.0641303</td><td>0.0715616</td></tr><tr><th>11</th><td>0.000722228</td><td>0.0138507</td><td>0.0648526</td><td>0.0694853</td><td>0.0833359</td></tr><tr><th>12</th><td>0.00272444</td><td>0.00316942</td><td>0.067577</td><td>0.0715616</td><td>0.074731</td></tr><tr><th>13</th><td>0.0185025</td><td>0.0137242</td><td>0.0860795</td><td>0.0860795</td><td>0.0998037</td></tr><tr><th>14</th><td>0.0178871</td><td>0.000677164</td><td>0.103967</td><td>0.103967</td><td>0.104644</td></tr><tr><th>15</th><td>0.0102533</td><td>0.00372098</td><td>0.11422</td><td>0.11422</td><td>0.117941</td></tr><tr><th>16</th><td>0.0526569</td><td>0.00221754</td><td>0.166877</td><td>0.166877</td><td>0.169094</td></tr><tr><th>17</th><td>0.00052903</td><td>0.0196949</td><td>0.167406</td><td>0.167406</td><td>0.187101</td></tr><tr><th>18</th><td>0.00166332</td><td>0.00521541</td><td>0.169069</td><td>0.169069</td><td>0.174285</td></tr><tr><th>19</th><td>0.0115492</td><td>0.0107749</td><td>0.180618</td><td>0.180618</td><td>0.191393</td></tr><tr><th>20</th><td>0.0405862</td><td>0.00658909</td><td>0.221205</td><td>0.221205</td><td>0.227794</td></tr><tr><th>21</th><td>0.0205637</td><td>0.00826975</td><td>0.241768</td><td>0.241768</td><td>0.250038</td></tr><tr><th>22</th><td>0.0178731</td><td>0.0105962</td><td>0.259642</td><td>0.259642</td><td>0.270238</td></tr><tr><th>23</th><td>0.00823281</td><td>0.00905127</td><td>0.267874</td><td>0.267874</td><td>0.276926</td></tr><tr><th>24</th><td>0.0291571</td><td>0.00518557</td><td>0.297031</td><td>0.297031</td><td>0.302217</td></tr><tr><th>25</th><td>0.011326</td><td>0.00896777</td><td>0.308357</td><td>0.308357</td><td>0.317325</td></tr><tr><th>26</th><td>0.000572342</td><td>0.00629324</td><td>0.30893</td><td>0.30893</td><td>0.315223</td></tr><tr><th>27</th><td>0.0294033</td><td>0.000348114</td><td>0.338333</td><td>0.338333</td><td>0.338681</td></tr><tr><th>28</th><td>0.00622691</td><td>0.0102542</td><td>0.34456</td><td>0.34456</td><td>0.354814</td></tr><tr><th>29</th><td>0.0245876</td><td>0.0340828</td><td>0.369148</td><td>0.369148</td><td>0.40323</td></tr><tr><th>30</th><td>0.0108085</td><td>0.0068287</td><td>0.379956</td><td>0.379956</td><td>0.386785</td></tr><tr><th>&vellip;</th><td>&vellip;</td><td>&vellip;</td><td>&vellip;</td><td>&vellip;</td><td>&vellip;</td></tr></tbody></table></div>"
      ],
      "text/latex": [
       "\\begin{tabular}{r|cccccc}\n",
       "\t& interarrival\\_time & service\\_time & arrival\\_time & service\\_start\\_time & service\\_end\\_time & \\\\\n",
       "\t\\hline\n",
       "\t& Float64 & Float64 & Float64 & Float64 & Float64 & \\\\\n",
       "\t\\hline\n",
       "\t1 & 0.0 & 0.0 & 0.0 & 0.0 & 0.0 & $\\dots$ \\\\\n",
       "\t2 & 0.0047415 & 0.00242425 & 0.0047415 & 0.0047415 & 0.00716575 & $\\dots$ \\\\\n",
       "\t3 & 0.00189529 & 0.000738039 & 0.0066368 & 0.0066368 & 0.00737484 & $\\dots$ \\\\\n",
       "\t4 & 0.00172711 & 0.0122298 & 0.00836391 & 0.00836391 & 0.0205937 & $\\dots$ \\\\\n",
       "\t5 & 0.0104642 & 0.0231278 & 0.0188281 & 0.0188281 & 0.0419559 & $\\dots$ \\\\\n",
       "\t6 & 0.0204893 & 0.0200817 & 0.0393174 & 0.0393174 & 0.0593992 & $\\dots$ \\\\\n",
       "\t7 & 0.000197814 & 0.0113624 & 0.0395153 & 0.0395153 & 0.0508777 & $\\dots$ \\\\\n",
       "\t8 & 0.0103539 & 0.0196161 & 0.0498692 & 0.0498692 & 0.0694853 & $\\dots$ \\\\\n",
       "\t9 & 0.00488335 & 0.0385767 & 0.0547525 & 0.0547525 & 0.0933292 & $\\dots$ \\\\\n",
       "\t10 & 0.00937779 & 0.00743127 & 0.0641303 & 0.0641303 & 0.0715616 & $\\dots$ \\\\\n",
       "\t11 & 0.000722228 & 0.0138507 & 0.0648526 & 0.0694853 & 0.0833359 & $\\dots$ \\\\\n",
       "\t12 & 0.00272444 & 0.00316942 & 0.067577 & 0.0715616 & 0.074731 & $\\dots$ \\\\\n",
       "\t13 & 0.0185025 & 0.0137242 & 0.0860795 & 0.0860795 & 0.0998037 & $\\dots$ \\\\\n",
       "\t14 & 0.0178871 & 0.000677164 & 0.103967 & 0.103967 & 0.104644 & $\\dots$ \\\\\n",
       "\t15 & 0.0102533 & 0.00372098 & 0.11422 & 0.11422 & 0.117941 & $\\dots$ \\\\\n",
       "\t16 & 0.0526569 & 0.00221754 & 0.166877 & 0.166877 & 0.169094 & $\\dots$ \\\\\n",
       "\t17 & 0.00052903 & 0.0196949 & 0.167406 & 0.167406 & 0.187101 & $\\dots$ \\\\\n",
       "\t18 & 0.00166332 & 0.00521541 & 0.169069 & 0.169069 & 0.174285 & $\\dots$ \\\\\n",
       "\t19 & 0.0115492 & 0.0107749 & 0.180618 & 0.180618 & 0.191393 & $\\dots$ \\\\\n",
       "\t20 & 0.0405862 & 0.00658909 & 0.221205 & 0.221205 & 0.227794 & $\\dots$ \\\\\n",
       "\t21 & 0.0205637 & 0.00826975 & 0.241768 & 0.241768 & 0.250038 & $\\dots$ \\\\\n",
       "\t22 & 0.0178731 & 0.0105962 & 0.259642 & 0.259642 & 0.270238 & $\\dots$ \\\\\n",
       "\t23 & 0.00823281 & 0.00905127 & 0.267874 & 0.267874 & 0.276926 & $\\dots$ \\\\\n",
       "\t24 & 0.0291571 & 0.00518557 & 0.297031 & 0.297031 & 0.302217 & $\\dots$ \\\\\n",
       "\t25 & 0.011326 & 0.00896777 & 0.308357 & 0.308357 & 0.317325 & $\\dots$ \\\\\n",
       "\t26 & 0.000572342 & 0.00629324 & 0.30893 & 0.30893 & 0.315223 & $\\dots$ \\\\\n",
       "\t27 & 0.0294033 & 0.000348114 & 0.338333 & 0.338333 & 0.338681 & $\\dots$ \\\\\n",
       "\t28 & 0.00622691 & 0.0102542 & 0.34456 & 0.34456 & 0.354814 & $\\dots$ \\\\\n",
       "\t29 & 0.0245876 & 0.0340828 & 0.369148 & 0.369148 & 0.40323 & $\\dots$ \\\\\n",
       "\t30 & 0.0108085 & 0.0068287 & 0.379956 & 0.379956 & 0.386785 & $\\dots$ \\\\\n",
       "\t$\\dots$ & $\\dots$ & $\\dots$ & $\\dots$ & $\\dots$ & $\\dots$ &  \\\\\n",
       "\\end{tabular}\n"
      ],
      "text/plain": [
       "\u001b[1m101×9 DataFrame\u001b[0m\n",
       "\u001b[1m Row \u001b[0m│\u001b[1m interarrival_time \u001b[0m\u001b[1m service_time \u001b[0m\u001b[1m arrival_time \u001b[0m\u001b[1m service_start_time \u001b[0m\u001b[1m serv\u001b[0m ⋯\n",
       "\u001b[1m     \u001b[0m│\u001b[90m Float64           \u001b[0m\u001b[90m Float64      \u001b[0m\u001b[90m Float64      \u001b[0m\u001b[90m Float64            \u001b[0m\u001b[90m Floa\u001b[0m ⋯\n",
       "─────┼──────────────────────────────────────────────────────────────────────────\n",
       "   1 │       0.0           0.0            0.0                 0.0              ⋯\n",
       "   2 │       0.0047415     0.00242425     0.0047415           0.0047415\n",
       "   3 │       0.00189529    0.000738039    0.0066368           0.0066368\n",
       "   4 │       0.00172711    0.0122298      0.00836391          0.00836391\n",
       "   5 │       0.0104642     0.0231278      0.0188281           0.0188281        ⋯\n",
       "   6 │       0.0204893     0.0200817      0.0393174           0.0393174\n",
       "   7 │       0.000197814   0.0113624      0.0395153           0.0395153\n",
       "   8 │       0.0103539     0.0196161      0.0498692           0.0498692\n",
       "   9 │       0.00488335    0.0385767      0.0547525           0.0547525        ⋯\n",
       "  10 │       0.00937779    0.00743127     0.0641303           0.0641303\n",
       "  11 │       0.000722228   0.0138507      0.0648526           0.0694853\n",
       "  ⋮  │         ⋮               ⋮             ⋮                ⋮                ⋱\n",
       "  92 │       9.52873e-5    0.000483482    1.65757             1.65757\n",
       "  93 │       0.0395548     0.00285618     1.69712             1.69712          ⋯\n",
       "  94 │       0.0170759     0.00818499     1.7142              1.7142\n",
       "  95 │       0.0229509     0.00221279     1.73715             1.73715\n",
       "  96 │       0.0453263     0.0212063      1.78248             1.78248\n",
       "  97 │       0.0371185     0.0245863      1.81959             1.81959          ⋯\n",
       "  98 │       0.0158966     0.0155945      1.83549             1.83549\n",
       "  99 │       0.0214783     0.0103862      1.85697             1.85697\n",
       " 100 │       0.0136539     0.00729199     1.87062             1.87062\n",
       " 101 │       0.0100906     0.00343899     1.88071             1.88071          ⋯\n",
       "\u001b[36m                                                   5 columns and 80 rows omitted\u001b[0m"
      ]
     },
     "execution_count": 21,
     "metadata": {},
     "output_type": "execute_result"
    }
   ],
   "source": [
    "# Parameters and Debugging\n",
    "time_df = start_simulation(100, 50.0, 100.0)"
   ]
  },
  {
   "cell_type": "code",
   "execution_count": null,
   "id": "051949e0-ab65-4f10-ae8b-33e4e849d4e3",
   "metadata": {},
   "outputs": [],
   "source": []
  }
 ],
 "metadata": {
  "kernelspec": {
   "display_name": "Julia 1.7.2",
   "language": "julia",
   "name": "julia-1.7"
  },
  "language_info": {
   "file_extension": ".jl",
   "mimetype": "application/julia",
   "name": "julia",
   "version": "1.7.2"
  }
 },
 "nbformat": 4,
 "nbformat_minor": 5
}
