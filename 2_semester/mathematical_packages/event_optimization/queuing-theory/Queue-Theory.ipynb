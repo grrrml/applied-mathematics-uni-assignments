{
 "cells": [
  {
   "cell_type": "code",
   "execution_count": 10,
   "id": "87301ebe-4bd9-4528-a833-2c7e137fef2f",
   "metadata": {},
   "outputs": [],
   "source": [
    "using Distributions\n",
    "using DataFrames\n",
    "using CSV\n",
    "using Random"
   ]
  },
  {
   "cell_type": "code",
   "execution_count": 11,
   "id": "66a2699c-dcfb-4bbc-badf-feab660ef6ab",
   "metadata": {},
   "outputs": [
    {
     "data": {
      "text/plain": [
       "MersenneTwister(2137)"
      ]
     },
     "execution_count": 11,
     "metadata": {},
     "output_type": "execute_result"
    }
   ],
   "source": [
    "# Seed\n",
    "rng = MersenneTwister(2137)"
   ]
  },
  {
   "cell_type": "code",
   "execution_count": 12,
   "id": "7c55855a-7852-43c7-a373-5368381d797d",
   "metadata": {},
   "outputs": [
    {
     "data": {
      "text/plain": [
       "calculate_parameters (generic function with 1 method)"
      ]
     },
     "execution_count": 12,
     "metadata": {},
     "output_type": "execute_result"
    }
   ],
   "source": [
    "function calculate_parameters(number_of_persons::Int64, mean_arrival_rate::Float64, mean_service_rate::Float64)\n",
    "    return calculated_parameters = Dict(\n",
    "        'n' => number_of_persons,\n",
    "        \"mean_arrival_rate\" => mean_arrival_rate,\n",
    "        \"mean_service_rate\" => mean_service_rate,\n",
    "        \"mean_interarrival_time\" => 1.0 / mean_arrival_rate,\n",
    "        \"mean_service_time\" => 1.0 / mean_service_rate\n",
    "    )\n",
    "end"
   ]
  },
  {
   "cell_type": "code",
   "execution_count": 13,
   "id": "0489376f-45ed-459e-b8cc-8b11aed841e4",
   "metadata": {},
   "outputs": [
    {
     "data": {
      "text/plain": [
       "time_dataframe (generic function with 1 method)"
      ]
     },
     "execution_count": 13,
     "metadata": {},
     "output_type": "execute_result"
    }
   ],
   "source": [
    "function time_dataframe(calculated_parameters::Dict, interarrival_times, arrival_times, service_times)\n",
    "    # Unpacking parameters\n",
    "    n = calculated_parameters['n']\n",
    "    \n",
    "    # Creating DataFrame\n",
    "    time_df = DataFrame(\n",
    "        interarrival_time = interarrival_times,\n",
    "        arrival_time = arrival_times,\n",
    "        service_time = service_times,\n",
    "        service_start_time = zeros(n),\n",
    "        service_end_time = zeros(n),\n",
    "        wait_time = zeros(n)\n",
    "        )\n",
    "    \n",
    "    # Calculating and updating DataFrame parameters\n",
    "    time_df[1, :service_start_time] = time_df[1, :arrival_time]\n",
    "    time_df[1, :service_end_time] = time_df[1, :service_start_time] + time_df[1, :service_time] \n",
    "    \n",
    "    for i in 2:n\n",
    "        time_df[i, :service_start_time] = max(time_df[i, :arrival_time], time_df[i-1, :service_end_time])\n",
    "        time_df[i, :service_end_time] = time_df[i, :service_start_time] + time_df[i, :service_time]\n",
    "    end    \n",
    "    \n",
    "    time_df[:, :wait_time] = time_df[:, :service_start_time] - time_df[:, :arrival_time]\n",
    "    \n",
    "    CSV.write(\"time_df.csv\", time_df)\n",
    "    \n",
    "    return time_df\n",
    "end"
   ]
  },
  {
   "cell_type": "code",
   "execution_count": 14,
   "id": "7f1f79dc-77d2-4fa5-b93f-d26eb5bbbf98",
   "metadata": {},
   "outputs": [
    {
     "data": {
      "text/plain": [
       "event_dataframe (generic function with 1 method)"
      ]
     },
     "execution_count": 14,
     "metadata": {},
     "output_type": "execute_result"
    }
   ],
   "source": [
    "function event_dataframe(calculated_parameters::Dict, time_df::DataFrame)\n",
    "    # Unpacking parameters\n",
    "    n = calculated_parameters['n']\n",
    "    arrival_times = time_df[:, :arrival_time]\n",
    "    service_start_times = time_df[:, :service_start_time]\n",
    "    service_end_times = time_df[:, :service_end_time]\n",
    "    \n",
    "    # Creating DataFrame\n",
    "    event_df = DataFrame(\n",
    "        persons_in_model = 0.0,\n",
    "        persons_in_queue = 0.0,\n",
    "        event_time = 0.0,\n",
    "        )\n",
    "    \n",
    "    # Parameters for the loop\n",
    "    persons_in_model = 0\n",
    "    persons_in_queue = 0\n",
    "    event_time = 0\n",
    "    end_index = 1\n",
    "    arrival_index = 1\n",
    "    start_index = 1\n",
    "    \n",
    "    # Loop\n",
    "    while end_index ≤ n\n",
    "        \n",
    "        # Bypassing \"Trying to access n+1 element of n element vector\"\n",
    "        # For large simulations replace 10^10 with external library Infinity.jl\n",
    "        if arrival_index ≤ n\n",
    "            arrival_event_time = arrival_times[arrival_index]\n",
    "        else \n",
    "            arrival_event_time = 10^10\n",
    "        end \n",
    "        \n",
    "        if start_index ≤ n\n",
    "            start_event_time = service_start_times[start_index]\n",
    "        else\n",
    "            start_event_time = 10^10\n",
    "        end \n",
    "        \n",
    "        end_event_time = service_end_times[end_index]\n",
    "        \n",
    "        \n",
    "        # Actual DataFrame Row Calculation\n",
    "        if (arrival_event_time ≤ start_event_time) && (arrival_event_time ≤ end_event_time)\n",
    "            event_time = arrival_event_time\n",
    "            queue_change = 1\n",
    "            model_change = 1\n",
    "            arrival_index += 1\n",
    "        elseif (start_event_time ≤ arrival_event_time) && (start_event_time ≤ end_event_time)\n",
    "            event_time = start_event_time\n",
    "            queue_change = -1\n",
    "            model_change = 0\n",
    "            start_index += 1\n",
    "        else \n",
    "            event_time = end_event_time\n",
    "            queue_change = 0\n",
    "            model_change = -1\n",
    "            end_index += 1\n",
    "        end\n",
    "        \n",
    "        # Update parameters and save\n",
    "        persons_in_model = persons_in_model + model_change\n",
    "        persons_in_queue = persons_in_queue + queue_change  \n",
    "        \n",
    "        push!(\n",
    "            event_df,\n",
    "            [persons_in_model,\n",
    "            persons_in_queue,\n",
    "            event_time] \n",
    "            )\n",
    "    end\n",
    "    CSV.write(\"event_df.csv\", event_df)\n",
    "    return event_df\n",
    "end"
   ]
  },
  {
   "cell_type": "code",
   "execution_count": 15,
   "id": "43719c3c-500a-43e1-85dd-ba30e1ddf5a1",
   "metadata": {},
   "outputs": [
    {
     "data": {
      "text/plain": [
       "start_simulation (generic function with 1 method)"
      ]
     },
     "execution_count": 15,
     "metadata": {},
     "output_type": "execute_result"
    }
   ],
   "source": [
    "function start_simulation(number_of_persons::Int64, mean_arrival_rate::Float64, mean_service_rate::Float64)\n",
    "    # Calculating parameters\n",
    "    calculated_parameters = calculate_parameters(number_of_persons, mean_arrival_rate, mean_service_rate)\n",
    "    \n",
    "    # Unpacking parameters\n",
    "    n = calculated_parameters['n']\n",
    "    mean_interarrival_time = calculated_parameters[\"mean_interarrival_time\"]\n",
    "    mean_service_time = calculated_parameters[\"mean_service_time\"]\n",
    "    \n",
    "    # Calculating distributions\n",
    "    interarrival_times = rand(rng, Exponential(mean_interarrival_time), n)\n",
    "    arrival_times = cumsum(interarrival_times)\n",
    "    service_times = rand(rng, Exponential(mean_service_time), n)\n",
    "    \n",
    "    # Calculating DataFrames\n",
    "    time_df = time_dataframe(calculated_parameters, interarrival_times, arrival_times, service_times)\n",
    "    event_df = event_dataframe(calculated_parameters, time_df)\n",
    "    return time_df\n",
    "end"
   ]
  },
  {
   "cell_type": "code",
   "execution_count": 16,
   "id": "e95f1eb6-9cc3-4561-a579-13426418809c",
   "metadata": {},
   "outputs": [
    {
     "data": {
      "text/html": [
       "<div class=\"data-frame\"><p>100 rows × 6 columns (omitted printing of 1 columns)</p><table class=\"data-frame\"><thead><tr><th></th><th>interarrival_time</th><th>arrival_time</th><th>service_time</th><th>service_start_time</th><th>service_end_time</th></tr><tr><th></th><th title=\"Float64\">Float64</th><th title=\"Float64\">Float64</th><th title=\"Float64\">Float64</th><th title=\"Float64\">Float64</th><th title=\"Float64\">Float64</th></tr></thead><tbody><tr><th>1</th><td>0.00395125</td><td>0.00395125</td><td>0.00606062</td><td>0.00395125</td><td>0.0100119</td></tr><tr><th>2</th><td>0.00157941</td><td>0.00553066</td><td>0.0018451</td><td>0.0100119</td><td>0.011857</td></tr><tr><th>3</th><td>0.00143926</td><td>0.00696993</td><td>0.0305746</td><td>0.011857</td><td>0.0424315</td></tr><tr><th>4</th><td>0.0087202</td><td>0.0156901</td><td>0.0578195</td><td>0.0424315</td><td>0.100251</td></tr><tr><th>5</th><td>0.0170744</td><td>0.0327645</td><td>0.0502043</td><td>0.100251</td><td>0.150455</td></tr><tr><th>6</th><td>0.000164845</td><td>0.0329294</td><td>0.028406</td><td>0.150455</td><td>0.178861</td></tr><tr><th>7</th><td>0.00862829</td><td>0.0415577</td><td>0.0490402</td><td>0.178861</td><td>0.227902</td></tr><tr><th>8</th><td>0.00406946</td><td>0.0456271</td><td>0.0964417</td><td>0.227902</td><td>0.324343</td></tr><tr><th>9</th><td>0.00781482</td><td>0.0534419</td><td>0.0185782</td><td>0.324343</td><td>0.342921</td></tr><tr><th>10</th><td>0.000601857</td><td>0.0540438</td><td>0.0346266</td><td>0.342921</td><td>0.377548</td></tr><tr><th>11</th><td>0.00227037</td><td>0.0563142</td><td>0.00792354</td><td>0.377548</td><td>0.385472</td></tr><tr><th>12</th><td>0.0154187</td><td>0.0717329</td><td>0.0343106</td><td>0.385472</td><td>0.419782</td></tr><tr><th>13</th><td>0.0149059</td><td>0.0866388</td><td>0.00169291</td><td>0.419782</td><td>0.421475</td></tr><tr><th>14</th><td>0.00854445</td><td>0.0951833</td><td>0.00930246</td><td>0.421475</td><td>0.430778</td></tr><tr><th>15</th><td>0.0438808</td><td>0.139064</td><td>0.00554386</td><td>0.430778</td><td>0.436321</td></tr><tr><th>16</th><td>0.000440858</td><td>0.139505</td><td>0.0492371</td><td>0.436321</td><td>0.485559</td></tr><tr><th>17</th><td>0.0013861</td><td>0.140891</td><td>0.0130385</td><td>0.485559</td><td>0.498597</td></tr><tr><th>18</th><td>0.00962435</td><td>0.150515</td><td>0.0269371</td><td>0.498597</td><td>0.525534</td></tr><tr><th>19</th><td>0.0338219</td><td>0.184337</td><td>0.0164727</td><td>0.525534</td><td>0.542007</td></tr><tr><th>20</th><td>0.0171364</td><td>0.201474</td><td>0.0206744</td><td>0.542007</td><td>0.562681</td></tr><tr><th>21</th><td>0.0148942</td><td>0.216368</td><td>0.0264905</td><td>0.562681</td><td>0.589172</td></tr><tr><th>22</th><td>0.00686068</td><td>0.223229</td><td>0.0226282</td><td>0.589172</td><td>0.6118</td></tr><tr><th>23</th><td>0.0242976</td><td>0.247526</td><td>0.0129639</td><td>0.6118</td><td>0.624764</td></tr><tr><th>24</th><td>0.00943834</td><td>0.256965</td><td>0.0224194</td><td>0.624764</td><td>0.647183</td></tr><tr><th>25</th><td>0.000476952</td><td>0.257441</td><td>0.0157331</td><td>0.647183</td><td>0.662916</td></tr><tr><th>26</th><td>0.0245027</td><td>0.281944</td><td>0.000870285</td><td>0.662916</td><td>0.663787</td></tr><tr><th>27</th><td>0.00518909</td><td>0.287133</td><td>0.0256354</td><td>0.663787</td><td>0.689422</td></tr><tr><th>28</th><td>0.0204897</td><td>0.307623</td><td>0.085207</td><td>0.689422</td><td>0.774629</td></tr><tr><th>29</th><td>0.00900706</td><td>0.31663</td><td>0.0170718</td><td>0.774629</td><td>0.791701</td></tr><tr><th>30</th><td>0.0313018</td><td>0.347932</td><td>0.00906536</td><td>0.791701</td><td>0.800766</td></tr><tr><th>&vellip;</th><td>&vellip;</td><td>&vellip;</td><td>&vellip;</td><td>&vellip;</td><td>&vellip;</td></tr></tbody></table></div>"
      ],
      "text/latex": [
       "\\begin{tabular}{r|cccccc}\n",
       "\t& interarrival\\_time & arrival\\_time & service\\_time & service\\_start\\_time & service\\_end\\_time & \\\\\n",
       "\t\\hline\n",
       "\t& Float64 & Float64 & Float64 & Float64 & Float64 & \\\\\n",
       "\t\\hline\n",
       "\t1 & 0.00395125 & 0.00395125 & 0.00606062 & 0.00395125 & 0.0100119 & $\\dots$ \\\\\n",
       "\t2 & 0.00157941 & 0.00553066 & 0.0018451 & 0.0100119 & 0.011857 & $\\dots$ \\\\\n",
       "\t3 & 0.00143926 & 0.00696993 & 0.0305746 & 0.011857 & 0.0424315 & $\\dots$ \\\\\n",
       "\t4 & 0.0087202 & 0.0156901 & 0.0578195 & 0.0424315 & 0.100251 & $\\dots$ \\\\\n",
       "\t5 & 0.0170744 & 0.0327645 & 0.0502043 & 0.100251 & 0.150455 & $\\dots$ \\\\\n",
       "\t6 & 0.000164845 & 0.0329294 & 0.028406 & 0.150455 & 0.178861 & $\\dots$ \\\\\n",
       "\t7 & 0.00862829 & 0.0415577 & 0.0490402 & 0.178861 & 0.227902 & $\\dots$ \\\\\n",
       "\t8 & 0.00406946 & 0.0456271 & 0.0964417 & 0.227902 & 0.324343 & $\\dots$ \\\\\n",
       "\t9 & 0.00781482 & 0.0534419 & 0.0185782 & 0.324343 & 0.342921 & $\\dots$ \\\\\n",
       "\t10 & 0.000601857 & 0.0540438 & 0.0346266 & 0.342921 & 0.377548 & $\\dots$ \\\\\n",
       "\t11 & 0.00227037 & 0.0563142 & 0.00792354 & 0.377548 & 0.385472 & $\\dots$ \\\\\n",
       "\t12 & 0.0154187 & 0.0717329 & 0.0343106 & 0.385472 & 0.419782 & $\\dots$ \\\\\n",
       "\t13 & 0.0149059 & 0.0866388 & 0.00169291 & 0.419782 & 0.421475 & $\\dots$ \\\\\n",
       "\t14 & 0.00854445 & 0.0951833 & 0.00930246 & 0.421475 & 0.430778 & $\\dots$ \\\\\n",
       "\t15 & 0.0438808 & 0.139064 & 0.00554386 & 0.430778 & 0.436321 & $\\dots$ \\\\\n",
       "\t16 & 0.000440858 & 0.139505 & 0.0492371 & 0.436321 & 0.485559 & $\\dots$ \\\\\n",
       "\t17 & 0.0013861 & 0.140891 & 0.0130385 & 0.485559 & 0.498597 & $\\dots$ \\\\\n",
       "\t18 & 0.00962435 & 0.150515 & 0.0269371 & 0.498597 & 0.525534 & $\\dots$ \\\\\n",
       "\t19 & 0.0338219 & 0.184337 & 0.0164727 & 0.525534 & 0.542007 & $\\dots$ \\\\\n",
       "\t20 & 0.0171364 & 0.201474 & 0.0206744 & 0.542007 & 0.562681 & $\\dots$ \\\\\n",
       "\t21 & 0.0148942 & 0.216368 & 0.0264905 & 0.562681 & 0.589172 & $\\dots$ \\\\\n",
       "\t22 & 0.00686068 & 0.223229 & 0.0226282 & 0.589172 & 0.6118 & $\\dots$ \\\\\n",
       "\t23 & 0.0242976 & 0.247526 & 0.0129639 & 0.6118 & 0.624764 & $\\dots$ \\\\\n",
       "\t24 & 0.00943834 & 0.256965 & 0.0224194 & 0.624764 & 0.647183 & $\\dots$ \\\\\n",
       "\t25 & 0.000476952 & 0.257441 & 0.0157331 & 0.647183 & 0.662916 & $\\dots$ \\\\\n",
       "\t26 & 0.0245027 & 0.281944 & 0.000870285 & 0.662916 & 0.663787 & $\\dots$ \\\\\n",
       "\t27 & 0.00518909 & 0.287133 & 0.0256354 & 0.663787 & 0.689422 & $\\dots$ \\\\\n",
       "\t28 & 0.0204897 & 0.307623 & 0.085207 & 0.689422 & 0.774629 & $\\dots$ \\\\\n",
       "\t29 & 0.00900706 & 0.31663 & 0.0170718 & 0.774629 & 0.791701 & $\\dots$ \\\\\n",
       "\t30 & 0.0313018 & 0.347932 & 0.00906536 & 0.791701 & 0.800766 & $\\dots$ \\\\\n",
       "\t$\\dots$ & $\\dots$ & $\\dots$ & $\\dots$ & $\\dots$ & $\\dots$ &  \\\\\n",
       "\\end{tabular}\n"
      ],
      "text/plain": [
       "\u001b[1m100×6 DataFrame\u001b[0m\n",
       "\u001b[1m Row \u001b[0m│\u001b[1m interarrival_time \u001b[0m\u001b[1m arrival_time \u001b[0m\u001b[1m service_time \u001b[0m\u001b[1m service_start_time \u001b[0m\u001b[1m serv\u001b[0m ⋯\n",
       "\u001b[1m     \u001b[0m│\u001b[90m Float64           \u001b[0m\u001b[90m Float64      \u001b[0m\u001b[90m Float64      \u001b[0m\u001b[90m Float64            \u001b[0m\u001b[90m Floa\u001b[0m ⋯\n",
       "─────┼──────────────────────────────────────────────────────────────────────────\n",
       "   1 │       0.00395125     0.00395125   0.00606062           0.00395125       ⋯\n",
       "   2 │       0.00157941     0.00553066   0.0018451            0.0100119\n",
       "   3 │       0.00143926     0.00696993   0.0305746            0.011857\n",
       "   4 │       0.0087202      0.0156901    0.0578195            0.0424315\n",
       "   5 │       0.0170744      0.0327645    0.0502043            0.100251         ⋯\n",
       "   6 │       0.000164845    0.0329294    0.028406             0.150455\n",
       "   7 │       0.00862829     0.0415577    0.0490402            0.178861\n",
       "   8 │       0.00406946     0.0456271    0.0964417            0.227902\n",
       "   9 │       0.00781482     0.0534419    0.0185782            0.324343         ⋯\n",
       "  10 │       0.000601857    0.0540438    0.0346266            0.342921\n",
       "  11 │       0.00227037     0.0563142    0.00792354           0.377548\n",
       "  ⋮  │         ⋮               ⋮             ⋮                ⋮                ⋱\n",
       "  91 │       7.94061e-5     1.38131      0.00120871           2.33714\n",
       "  92 │       0.0329623      1.41427      0.00714045           2.33835          ⋯\n",
       "  93 │       0.0142299      1.4285       0.0204625            2.34549\n",
       "  94 │       0.0191258      1.44762      0.00553197           2.36595\n",
       "  95 │       0.0377719      1.4854       0.0530157            2.37148\n",
       "  96 │       0.0309321      1.51633      0.0614658            2.4245           ⋯\n",
       "  97 │       0.0132472      1.52958      0.0389861            2.48596\n",
       "  98 │       0.0178986      1.54747      0.0259656            2.52495\n",
       "  99 │       0.0113782      1.55885      0.01823              2.55091\n",
       " 100 │       0.00840887     1.56726      0.00859747           2.56914          ⋯\n",
       "\u001b[36m                                                   2 columns and 79 rows omitted\u001b[0m"
      ]
     },
     "execution_count": 16,
     "metadata": {},
     "output_type": "execute_result"
    }
   ],
   "source": [
    "time_df = start_simulation(100, 60.0, 40.0)"
   ]
  },
  {
   "cell_type": "code",
   "execution_count": null,
   "id": "71f33a9a-5da4-4926-b283-48622b2c450b",
   "metadata": {},
   "outputs": [],
   "source": []
  },
  {
   "cell_type": "code",
   "execution_count": null,
   "id": "e8efd1d9-1417-4967-b9de-4fdeb7513eb0",
   "metadata": {},
   "outputs": [],
   "source": []
  }
 ],
 "metadata": {
  "kernelspec": {
   "display_name": "Julia 1.7.2",
   "language": "julia",
   "name": "julia-1.7"
  },
  "language_info": {
   "file_extension": ".jl",
   "mimetype": "application/julia",
   "name": "julia",
   "version": "1.7.2"
  }
 },
 "nbformat": 4,
 "nbformat_minor": 5
}
